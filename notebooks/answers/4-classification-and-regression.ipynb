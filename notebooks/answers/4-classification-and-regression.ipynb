{
 "cells": [
  {
   "cell_type": "markdown",
   "id": "d96e7476",
   "metadata": {},
   "source": [
    "1. Step by step entire pipeline for a binary classification task:\n",
    "    - Data loading\n",
    "    - Data exploration & preprocessing (NaNs, (numerical) feature selection, outliers, target selection)\n",
    "    - Train test split\n",
    "    - Normalization\n",
    "    - Training & testing (including metric selection & regularization)\n",
    "        - Logistic regression\n",
    "        - SVM\n",
    "        - Simple neural net (Scikit-learn MLP)\n",
    "\n",
    "2. A sample dataset to highlight differences for regression (e.g. diabetes dataset: https://scikit-learn.org/stable/datasets/toy_dataset.html#diabetes-dataset)\n",
    "3. DIY task: Built pipeline for regression using real-life dataset (e.g. https://www.kaggle.com/datasets/jockeroika/life-style-data/code)\n",
    "    - Still have an outline with each of the required steps to help them a little bit along, but minimal prepared code\n"
   ]
  }
 ],
 "metadata": {
  "language_info": {
   "name": "python"
  }
 },
 "nbformat": 4,
 "nbformat_minor": 5
}
